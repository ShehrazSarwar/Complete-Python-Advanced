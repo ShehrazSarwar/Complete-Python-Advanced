{
 "cells": [
  {
   "cell_type": "markdown",
   "id": "4888a192-93ec-42ba-9a87-8a697ea13d87",
   "metadata": {},
   "source": [
    "## Basics of Numpy\n"
   ]
  },
  {
   "cell_type": "markdown",
   "id": "c6493776-651a-4ef9-abcc-fd9db11ee541",
   "metadata": {},
   "source": [
    "<b>Load numpy as np</b>"
   ]
  },
  {
   "cell_type": "code",
   "execution_count": 6,
   "id": "ad71a7fa-ffe7-4627-a144-0903db0530fe",
   "metadata": {},
   "outputs": [],
   "source": [
    "import numpy as np"
   ]
  },
  {
   "cell_type": "markdown",
   "id": "03d68afd-b431-461b-b7a6-136ecb4d6692",
   "metadata": {},
   "source": [
    "<b> 1-D Array </b>"
   ]
  },
  {
   "cell_type": "code",
   "execution_count": 82,
   "id": "4da6f7dd-eec4-40c8-9bb5-64dbc5d56fb6",
   "metadata": {},
   "outputs": [
    {
     "name": "stdout",
     "output_type": "stream",
     "text": [
      "[1 3 5 3 5]\n",
      "<class 'numpy.ndarray'>\n"
     ]
    }
   ],
   "source": [
    "# a = np.array([1,3,5])\n",
    "a = np.array([1,3,5,3,5], dtype = 'int16') # specify the dtype to less like int16 if no of integers are less to save memory space\n",
    "print(a)\n",
    "print(type(a))"
   ]
  },
  {
   "cell_type": "markdown",
   "id": "8f7b0b7c-3577-4306-aaca-607660eceb2a",
   "metadata": {},
   "source": [
    "<b> 2-D Array </b>"
   ]
  },
  {
   "cell_type": "code",
   "execution_count": 85,
   "id": "76880e63-6ce5-43b4-aa9f-6af68e4c5ba2",
   "metadata": {},
   "outputs": [
    {
     "name": "stdout",
     "output_type": "stream",
     "text": [
      "[[9. 8. 7.]\n",
      " [6. 5. 4.]]\n"
     ]
    }
   ],
   "source": [
    "b = np.array([[9.0,8.0,7.0],[6.0,5.0,4.0]])\n",
    "print(b)"
   ]
  },
  {
   "cell_type": "markdown",
   "id": "81977945-d039-4934-a697-532ac0b45c09",
   "metadata": {},
   "source": [
    "#### Basic Operations"
   ]
  },
  {
   "cell_type": "code",
   "execution_count": 88,
   "id": "7ec170e4-e48d-404b-bdc1-c753befbfdb4",
   "metadata": {},
   "outputs": [
    {
     "data": {
      "text/plain": [
       "5"
      ]
     },
     "execution_count": 88,
     "metadata": {},
     "output_type": "execute_result"
    }
   ],
   "source": [
    "# Get Size\n",
    "a.size"
   ]
  },
  {
   "cell_type": "code",
   "execution_count": 90,
   "id": "7b074977-aaaf-4848-88da-305cf3f0d54a",
   "metadata": {},
   "outputs": [
    {
     "data": {
      "text/plain": [
       "1"
      ]
     },
     "execution_count": 90,
     "metadata": {},
     "output_type": "execute_result"
    }
   ],
   "source": [
    "# Get no of dimensions\n",
    "a.ndim  "
   ]
  },
  {
   "cell_type": "code",
   "execution_count": 92,
   "id": "f61522de-8e52-4e61-a73d-6320cbd5dc04",
   "metadata": {},
   "outputs": [
    {
     "name": "stdout",
     "output_type": "stream",
     "text": [
      "(5,)\n",
      "(2, 3)\n"
     ]
    }
   ],
   "source": [
    "# Get shape (return size of array in each dimension)\n",
    "print(a.shape)\n",
    "print(b.shape)"
   ]
  },
  {
   "cell_type": "code",
   "execution_count": 94,
   "id": "d1a688d4-e490-471d-8447-d23c794c2b61",
   "metadata": {},
   "outputs": [
    {
     "data": {
      "text/plain": [
       "dtype('int16')"
      ]
     },
     "execution_count": 94,
     "metadata": {},
     "output_type": "execute_result"
    }
   ],
   "source": [
    "# Get data type\n",
    "a.dtype"
   ]
  },
  {
   "cell_type": "code",
   "execution_count": 56,
   "id": "86748694-2d7e-4d72-92a6-1885e6a07927",
   "metadata": {},
   "outputs": [
    {
     "data": {
      "text/plain": [
       "dtype('float64')"
      ]
     },
     "execution_count": 56,
     "metadata": {},
     "output_type": "execute_result"
    }
   ],
   "source": [
    "b.dtype"
   ]
  },
  {
   "cell_type": "code",
   "execution_count": 102,
   "id": "da3fde94-b243-4051-b02a-143ca4a41758",
   "metadata": {},
   "outputs": [
    {
     "data": {
      "text/plain": [
       "2"
      ]
     },
     "execution_count": 102,
     "metadata": {},
     "output_type": "execute_result"
    }
   ],
   "source": [
    "# Get individual item size in bytes\n",
    "a.itemsize"
   ]
  },
  {
   "cell_type": "code",
   "execution_count": 100,
   "id": "5e6bb164-c022-4477-bc37-b1660dc9a85b",
   "metadata": {},
   "outputs": [
    {
     "data": {
      "text/plain": [
       "10"
      ]
     },
     "execution_count": 100,
     "metadata": {},
     "output_type": "execute_result"
    }
   ],
   "source": [
    "# Get all items size in bytes\n",
    "a.nbytes"
   ]
  },
  {
   "cell_type": "code",
   "execution_count": null,
   "id": "a0a01fa8-d648-4985-9dc5-e1283bd8d64b",
   "metadata": {},
   "outputs": [],
   "source": []
  }
 ],
 "metadata": {
  "kernelspec": {
   "display_name": "Python [conda env:base] *",
   "language": "python",
   "name": "conda-base-py"
  },
  "language_info": {
   "codemirror_mode": {
    "name": "ipython",
    "version": 3
   },
   "file_extension": ".py",
   "mimetype": "text/x-python",
   "name": "python",
   "nbconvert_exporter": "python",
   "pygments_lexer": "ipython3",
   "version": "3.12.7"
  }
 },
 "nbformat": 4,
 "nbformat_minor": 5
}
