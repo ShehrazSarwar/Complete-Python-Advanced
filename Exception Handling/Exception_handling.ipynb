{
  "nbformat": 4,
  "nbformat_minor": 0,
  "metadata": {
    "colab": {
      "provenance": [],
      "collapsed_sections": [
        "U9R2vn5c-2RE",
        "taixp-T510Da"
      ]
    },
    "kernelspec": {
      "name": "python3",
      "display_name": "Python 3"
    },
    "language_info": {
      "name": "python"
    }
  },
  "cells": [
    {
      "cell_type": "markdown",
      "source": [
        "There are 2 stages where error may happen in a program\n",
        "\n",
        "- During compilation -> Syntax Error\n",
        "- During execution -> Exceptions"
      ],
      "metadata": {
        "id": "xh7vgT_4-gdB"
      }
    },
    {
      "cell_type": "markdown",
      "source": [
        "### Syntax Error\n",
        "\n",
        "- Something in the program is not written according to the program grammar.\n",
        "- Error is raised by the interpreter/compiler\n",
        "- You can solve it by rectifying the program\n",
        "\n",
        "Other examples of syntax error\n",
        "\n",
        "- Leaving symbols like colon,brackets\n",
        "- Misspelling a keyword\n",
        "- Incorrect indentation\n",
        "- empty if/else/loops/class/functions\n"
      ],
      "metadata": {
        "id": "U9R2vn5c-2RE"
      }
    },
    {
      "cell_type": "code",
      "source": [
        "# Examples of syntax error\n",
        "print 'hello world'"
      ],
      "metadata": {
        "colab": {
          "base_uri": "https://localhost:8080/",
          "height": 133
        },
        "id": "sgsgNEc--1ux",
        "outputId": "f973a81c-d579-4259-dcea-19d380fbaaa8"
      },
      "execution_count": null,
      "outputs": [
        {
          "output_type": "error",
          "ename": "SyntaxError",
          "evalue": "ignored",
          "traceback": [
            "\u001b[0;36m  File \u001b[0;32m\"<ipython-input-3-4655b84ba7b7>\"\u001b[0;36m, line \u001b[0;32m2\u001b[0m\n\u001b[0;31m    print 'hello world'\u001b[0m\n\u001b[0m                      ^\u001b[0m\n\u001b[0;31mSyntaxError\u001b[0m\u001b[0;31m:\u001b[0m Missing parentheses in call to 'print'. Did you mean print('hello world')?\n"
          ]
        }
      ]
    },
    {
      "cell_type": "code",
      "source": [
        "a = 5\n",
        "if a==3\n",
        "  print('hello')"
      ],
      "metadata": {
        "colab": {
          "base_uri": "https://localhost:8080/",
          "height": 106
        },
        "id": "TAVlrkrs1qfC",
        "outputId": "11c1d36e-4a2d-4378-e244-c051a8b7d681"
      },
      "execution_count": 4,
      "outputs": [
        {
          "output_type": "error",
          "ename": "SyntaxError",
          "evalue": "expected ':' (<ipython-input-4-efc58c10458d>, line 2)",
          "traceback": [
            "\u001b[0;36m  File \u001b[0;32m\"<ipython-input-4-efc58c10458d>\"\u001b[0;36m, line \u001b[0;32m2\u001b[0m\n\u001b[0;31m    if a==3\u001b[0m\n\u001b[0m           ^\u001b[0m\n\u001b[0;31mSyntaxError\u001b[0m\u001b[0;31m:\u001b[0m expected ':'\n"
          ]
        }
      ]
    },
    {
      "cell_type": "code",
      "source": [
        "a = 5\n",
        "iff a==3:\n",
        "  print('hello')"
      ],
      "metadata": {
        "colab": {
          "base_uri": "https://localhost:8080/",
          "height": 106
        },
        "id": "VCfCGsAu1tI2",
        "outputId": "48e2160e-143a-4e06-d474-c272bfe16e8b"
      },
      "execution_count": 5,
      "outputs": [
        {
          "output_type": "error",
          "ename": "SyntaxError",
          "evalue": "invalid syntax (<ipython-input-5-d1e6fae154d5>, line 2)",
          "traceback": [
            "\u001b[0;36m  File \u001b[0;32m\"<ipython-input-5-d1e6fae154d5>\"\u001b[0;36m, line \u001b[0;32m2\u001b[0m\n\u001b[0;31m    iff a==3:\u001b[0m\n\u001b[0m        ^\u001b[0m\n\u001b[0;31mSyntaxError\u001b[0m\u001b[0;31m:\u001b[0m invalid syntax\n"
          ]
        }
      ]
    },
    {
      "cell_type": "code",
      "source": [
        "a = 5\n",
        "if a==3:\n",
        "print('hello')"
      ],
      "metadata": {
        "colab": {
          "base_uri": "https://localhost:8080/",
          "height": 106
        },
        "id": "GRIfiZAA175k",
        "outputId": "9b7cf094-6878-46b6-bb44-1e4b0f96bdca"
      },
      "execution_count": 6,
      "outputs": [
        {
          "output_type": "error",
          "ename": "IndentationError",
          "evalue": "expected an indented block after 'if' statement on line 2 (<ipython-input-6-ccc702dc036c>, line 3)",
          "traceback": [
            "\u001b[0;36m  File \u001b[0;32m\"<ipython-input-6-ccc702dc036c>\"\u001b[0;36m, line \u001b[0;32m3\u001b[0m\n\u001b[0;31m    print('hello')\u001b[0m\n\u001b[0m    ^\u001b[0m\n\u001b[0;31mIndentationError\u001b[0m\u001b[0;31m:\u001b[0m expected an indented block after 'if' statement on line 2\n"
          ]
        }
      ]
    },
    {
      "cell_type": "markdown",
      "source": [
        "### Other Type Of Errors"
      ],
      "metadata": {
        "id": "taixp-T510Da"
      }
    },
    {
      "cell_type": "code",
      "source": [
        "# IndexError\n",
        "# The IndexError is thrown when trying to access an item at an invalid index.\n",
        "L = [1,2,3]\n",
        "L[100]"
      ],
      "metadata": {
        "colab": {
          "base_uri": "https://localhost:8080/",
          "height": 205
        },
        "id": "KZQFu9zdEuFC",
        "outputId": "546e9247-b4a2-4c14-b822-4c6c00264f30"
      },
      "execution_count": null,
      "outputs": [
        {
          "output_type": "error",
          "ename": "IndexError",
          "evalue": "ignored",
          "traceback": [
            "\u001b[0;31m---------------------------------------------------------------------------\u001b[0m",
            "\u001b[0;31mIndexError\u001b[0m                                Traceback (most recent call last)",
            "\u001b[0;32m<ipython-input-71-c90668d2b194>\u001b[0m in \u001b[0;36m<module>\u001b[0;34m\u001b[0m\n\u001b[1;32m      2\u001b[0m \u001b[0;31m# The IndexError is thrown when trying to access an item at an invalid index.\u001b[0m\u001b[0;34m\u001b[0m\u001b[0;34m\u001b[0m\u001b[0;34m\u001b[0m\u001b[0m\n\u001b[1;32m      3\u001b[0m \u001b[0mL\u001b[0m \u001b[0;34m=\u001b[0m \u001b[0;34m[\u001b[0m\u001b[0;36m1\u001b[0m\u001b[0;34m,\u001b[0m\u001b[0;36m2\u001b[0m\u001b[0;34m,\u001b[0m\u001b[0;36m3\u001b[0m\u001b[0;34m]\u001b[0m\u001b[0;34m\u001b[0m\u001b[0;34m\u001b[0m\u001b[0m\n\u001b[0;32m----> 4\u001b[0;31m \u001b[0mL\u001b[0m\u001b[0;34m[\u001b[0m\u001b[0;36m100\u001b[0m\u001b[0;34m]\u001b[0m\u001b[0;34m\u001b[0m\u001b[0;34m\u001b[0m\u001b[0m\n\u001b[0m",
            "\u001b[0;31mIndexError\u001b[0m: list index out of range"
          ]
        }
      ]
    },
    {
      "cell_type": "code",
      "source": [
        "# ModuleNotFoundError\n",
        "# The ModuleNotFoundError is thrown when a module could not be found.\n",
        "import mathi\n",
        "math.floor(5.3)"
      ],
      "metadata": {
        "colab": {
          "base_uri": "https://localhost:8080/",
          "height": 366
        },
        "id": "FfoXlpAGE1rW",
        "outputId": "b5800421-3a3d-4293-fad6-fb49227da0e6"
      },
      "execution_count": null,
      "outputs": [
        {
          "output_type": "error",
          "ename": "ModuleNotFoundError",
          "evalue": "ignored",
          "traceback": [
            "\u001b[0;31m---------------------------------------------------------------------------\u001b[0m",
            "\u001b[0;31mModuleNotFoundError\u001b[0m                       Traceback (most recent call last)",
            "\u001b[0;32m<ipython-input-73-cbdaf00191df>\u001b[0m in \u001b[0;36m<module>\u001b[0;34m\u001b[0m\n\u001b[1;32m      1\u001b[0m \u001b[0;31m# ModuleNotFoundError\u001b[0m\u001b[0;34m\u001b[0m\u001b[0;34m\u001b[0m\u001b[0;34m\u001b[0m\u001b[0m\n\u001b[1;32m      2\u001b[0m \u001b[0;31m# The ModuleNotFoundError is thrown when a module could not be found.\u001b[0m\u001b[0;34m\u001b[0m\u001b[0;34m\u001b[0m\u001b[0;34m\u001b[0m\u001b[0m\n\u001b[0;32m----> 3\u001b[0;31m \u001b[0;32mimport\u001b[0m \u001b[0mmathi\u001b[0m\u001b[0;34m\u001b[0m\u001b[0;34m\u001b[0m\u001b[0m\n\u001b[0m\u001b[1;32m      4\u001b[0m \u001b[0mmath\u001b[0m\u001b[0;34m.\u001b[0m\u001b[0mfloor\u001b[0m\u001b[0;34m(\u001b[0m\u001b[0;36m5.3\u001b[0m\u001b[0;34m)\u001b[0m\u001b[0;34m\u001b[0m\u001b[0;34m\u001b[0m\u001b[0m\n",
            "\u001b[0;31mModuleNotFoundError\u001b[0m: No module named 'mathi'",
            "",
            "\u001b[0;31m---------------------------------------------------------------------------\u001b[0;32m\nNOTE: If your import is failing due to a missing package, you can\nmanually install dependencies using either !pip or !apt.\n\nTo view examples of installing some common dependencies, click the\n\"Open Examples\" button below.\n\u001b[0;31m---------------------------------------------------------------------------\u001b[0m\n"
          ],
          "errorDetails": {
            "actions": [
              {
                "action": "open_url",
                "actionText": "Open Examples",
                "url": "/notebooks/snippets/importing_libraries.ipynb"
              }
            ]
          }
        }
      ]
    },
    {
      "cell_type": "code",
      "source": [
        "# KeyError\n",
        "# The KeyError is thrown when a key is not found\n",
        "\n",
        "d = {'name':'nitish'}\n",
        "d['age']"
      ],
      "metadata": {
        "colab": {
          "base_uri": "https://localhost:8080/",
          "height": 205
        },
        "id": "IP2CycVwE66e",
        "outputId": "430034d1-08f0-4e37-baeb-486eeb121b43"
      },
      "execution_count": null,
      "outputs": [
        {
          "output_type": "error",
          "ename": "KeyError",
          "evalue": "ignored",
          "traceback": [
            "\u001b[0;31m---------------------------------------------------------------------------\u001b[0m",
            "\u001b[0;31mKeyError\u001b[0m                                  Traceback (most recent call last)",
            "\u001b[0;32m<ipython-input-74-453afa1c9765>\u001b[0m in \u001b[0;36m<module>\u001b[0;34m\u001b[0m\n\u001b[1;32m      3\u001b[0m \u001b[0;34m\u001b[0m\u001b[0m\n\u001b[1;32m      4\u001b[0m \u001b[0md\u001b[0m \u001b[0;34m=\u001b[0m \u001b[0;34m{\u001b[0m\u001b[0;34m'name'\u001b[0m\u001b[0;34m:\u001b[0m\u001b[0;34m'nitish'\u001b[0m\u001b[0;34m}\u001b[0m\u001b[0;34m\u001b[0m\u001b[0;34m\u001b[0m\u001b[0m\n\u001b[0;32m----> 5\u001b[0;31m \u001b[0md\u001b[0m\u001b[0;34m[\u001b[0m\u001b[0;34m'age'\u001b[0m\u001b[0;34m]\u001b[0m\u001b[0;34m\u001b[0m\u001b[0;34m\u001b[0m\u001b[0m\n\u001b[0m",
            "\u001b[0;31mKeyError\u001b[0m: 'age'"
          ]
        }
      ]
    },
    {
      "cell_type": "code",
      "source": [
        "# TypeError\n",
        "# The TypeError is thrown when an operation or function is applied to an object of an inappropriate type.\n",
        "1 + 'a'"
      ],
      "metadata": {
        "colab": {
          "base_uri": "https://localhost:8080/",
          "height": 205
        },
        "id": "meGU1o_VE-Y5",
        "outputId": "e8b62d30-5c0e-411e-cd60-4cd7fa42ecfd"
      },
      "execution_count": null,
      "outputs": [
        {
          "output_type": "error",
          "ename": "TypeError",
          "evalue": "ignored",
          "traceback": [
            "\u001b[0;31m---------------------------------------------------------------------------\u001b[0m",
            "\u001b[0;31mTypeError\u001b[0m                                 Traceback (most recent call last)",
            "\u001b[0;32m<ipython-input-78-2a3eb3f5bb0a>\u001b[0m in \u001b[0;36m<module>\u001b[0;34m\u001b[0m\n\u001b[1;32m      1\u001b[0m \u001b[0;31m# TypeError\u001b[0m\u001b[0;34m\u001b[0m\u001b[0;34m\u001b[0m\u001b[0;34m\u001b[0m\u001b[0m\n\u001b[1;32m      2\u001b[0m \u001b[0;31m# The TypeError is thrown when an operation or function is applied to an object of an inappropriate type.\u001b[0m\u001b[0;34m\u001b[0m\u001b[0;34m\u001b[0m\u001b[0;34m\u001b[0m\u001b[0m\n\u001b[0;32m----> 3\u001b[0;31m \u001b[0;36m1\u001b[0m \u001b[0;34m+\u001b[0m \u001b[0;34m'a'\u001b[0m\u001b[0;34m\u001b[0m\u001b[0;34m\u001b[0m\u001b[0m\n\u001b[0m",
            "\u001b[0;31mTypeError\u001b[0m: unsupported operand type(s) for +: 'int' and 'str'"
          ]
        }
      ]
    },
    {
      "cell_type": "code",
      "source": [
        "# ValueError\n",
        "# The ValueError is thrown when a function's argument is of an inappropriate type.\n",
        "int('a')"
      ],
      "metadata": {
        "colab": {
          "base_uri": "https://localhost:8080/",
          "height": 205
        },
        "id": "ZE_r2WsaFF6f",
        "outputId": "a8f34b54-b1e3-47d9-cd32-7eeee19b4d47"
      },
      "execution_count": null,
      "outputs": [
        {
          "output_type": "error",
          "ename": "ValueError",
          "evalue": "ignored",
          "traceback": [
            "\u001b[0;31m---------------------------------------------------------------------------\u001b[0m",
            "\u001b[0;31mValueError\u001b[0m                                Traceback (most recent call last)",
            "\u001b[0;32m<ipython-input-76-e419d2a084b4>\u001b[0m in \u001b[0;36m<module>\u001b[0;34m\u001b[0m\n\u001b[1;32m      1\u001b[0m \u001b[0;31m# ValueError\u001b[0m\u001b[0;34m\u001b[0m\u001b[0;34m\u001b[0m\u001b[0;34m\u001b[0m\u001b[0m\n\u001b[1;32m      2\u001b[0m \u001b[0;31m# The ValueError is thrown when a function's argument is of an inappropriate type.\u001b[0m\u001b[0;34m\u001b[0m\u001b[0;34m\u001b[0m\u001b[0;34m\u001b[0m\u001b[0m\n\u001b[0;32m----> 3\u001b[0;31m \u001b[0mint\u001b[0m\u001b[0;34m(\u001b[0m\u001b[0;34m'a'\u001b[0m\u001b[0;34m)\u001b[0m\u001b[0;34m\u001b[0m\u001b[0;34m\u001b[0m\u001b[0m\n\u001b[0m",
            "\u001b[0;31mValueError\u001b[0m: invalid literal for int() with base 10: 'a'"
          ]
        }
      ]
    },
    {
      "cell_type": "code",
      "source": [
        "# NameError\n",
        "# The NameError is thrown when an object could not be found.\n",
        "print(k)"
      ],
      "metadata": {
        "colab": {
          "base_uri": "https://localhost:8080/",
          "height": 205
        },
        "id": "yr7eRF2xFPo7",
        "outputId": "617b5a0c-2e8d-4e9d-e441-aa14c013bfa5"
      },
      "execution_count": null,
      "outputs": [
        {
          "output_type": "error",
          "ename": "NameError",
          "evalue": "ignored",
          "traceback": [
            "\u001b[0;31m---------------------------------------------------------------------------\u001b[0m",
            "\u001b[0;31mNameError\u001b[0m                                 Traceback (most recent call last)",
            "\u001b[0;32m<ipython-input-79-e3e8aaa4ec45>\u001b[0m in \u001b[0;36m<module>\u001b[0;34m\u001b[0m\n\u001b[1;32m      1\u001b[0m \u001b[0;31m# NameError\u001b[0m\u001b[0;34m\u001b[0m\u001b[0;34m\u001b[0m\u001b[0;34m\u001b[0m\u001b[0m\n\u001b[1;32m      2\u001b[0m \u001b[0;31m# The NameError is thrown when an object could not be found.\u001b[0m\u001b[0;34m\u001b[0m\u001b[0;34m\u001b[0m\u001b[0;34m\u001b[0m\u001b[0m\n\u001b[0;32m----> 3\u001b[0;31m \u001b[0mprint\u001b[0m\u001b[0;34m(\u001b[0m\u001b[0mk\u001b[0m\u001b[0;34m)\u001b[0m\u001b[0;34m\u001b[0m\u001b[0;34m\u001b[0m\u001b[0m\n\u001b[0m",
            "\u001b[0;31mNameError\u001b[0m: name 'k' is not defined"
          ]
        }
      ]
    },
    {
      "cell_type": "code",
      "source": [
        "# AttributeError\n",
        "L = [1,2,3]\n",
        "L.upper()\n",
        "\n",
        "# Stacktrace"
      ],
      "metadata": {
        "colab": {
          "base_uri": "https://localhost:8080/",
          "height": 205
        },
        "id": "VHVKtWwWFUhK",
        "outputId": "6d84d92c-f2c1-4abc-f4ed-6cf8ebd0cb1e"
      },
      "execution_count": null,
      "outputs": [
        {
          "output_type": "error",
          "ename": "AttributeError",
          "evalue": "ignored",
          "traceback": [
            "\u001b[0;31m---------------------------------------------------------------------------\u001b[0m",
            "\u001b[0;31mAttributeError\u001b[0m                            Traceback (most recent call last)",
            "\u001b[0;32m<ipython-input-80-dd5a29625ddc>\u001b[0m in \u001b[0;36m<module>\u001b[0;34m\u001b[0m\n\u001b[1;32m      1\u001b[0m \u001b[0;31m# AttributeError\u001b[0m\u001b[0;34m\u001b[0m\u001b[0;34m\u001b[0m\u001b[0;34m\u001b[0m\u001b[0m\n\u001b[1;32m      2\u001b[0m \u001b[0mL\u001b[0m \u001b[0;34m=\u001b[0m \u001b[0;34m[\u001b[0m\u001b[0;36m1\u001b[0m\u001b[0;34m,\u001b[0m\u001b[0;36m2\u001b[0m\u001b[0;34m,\u001b[0m\u001b[0;36m3\u001b[0m\u001b[0;34m]\u001b[0m\u001b[0;34m\u001b[0m\u001b[0;34m\u001b[0m\u001b[0m\n\u001b[0;32m----> 3\u001b[0;31m \u001b[0mL\u001b[0m\u001b[0;34m.\u001b[0m\u001b[0mupper\u001b[0m\u001b[0;34m(\u001b[0m\u001b[0;34m)\u001b[0m\u001b[0;34m\u001b[0m\u001b[0;34m\u001b[0m\u001b[0m\n\u001b[0m",
            "\u001b[0;31mAttributeError\u001b[0m: 'list' object has no attribute 'upper'"
          ]
        }
      ]
    },
    {
      "cell_type": "markdown",
      "source": [
        "### Exceptions\n",
        "\n",
        "If things go wrong during the execution of the program(runtime). It generally happens when something unforeseen has happened.\n",
        "\n",
        "- Exceptions are raised by python runtime\n",
        "- You have to takle is on the fly\n",
        "\n",
        "#### **Examples**\n",
        "\n",
        "- Memory overflow\n",
        "- Divide by 0 -> logical error\n",
        "- Database error"
      ],
      "metadata": {
        "id": "l6JrgCrHA2Tq"
      }
    },
    {
      "cell_type": "code",
      "source": [
        "# Why is it important to handle exceptions\n",
        "# how to handle exceptions\n",
        "# -> Try except block"
      ],
      "metadata": {
        "id": "rfzG2r9DAfDf"
      },
      "execution_count": 10,
      "outputs": []
    },
    {
      "cell_type": "code",
      "source": [
        "# let's create a file\n",
        "with open('sample.txt','w') as f:\n",
        "  f.write('hello world')"
      ],
      "metadata": {
        "id": "S_VIvkx9Hnxb"
      },
      "execution_count": 11,
      "outputs": []
    },
    {
      "cell_type": "code",
      "source": [
        "# try catch or except demo\n",
        "try:\n",
        "  with open('sample1.txt','r') as f:\n",
        "    print(f.read())\n",
        "except:\n",
        "  print('sorry file not found')"
      ],
      "metadata": {
        "colab": {
          "base_uri": "https://localhost:8080/"
        },
        "id": "9WItdkURHtvM",
        "outputId": "0cd9256e-43cb-462d-e28f-fa048606245a"
      },
      "execution_count": 38,
      "outputs": [
        {
          "output_type": "stream",
          "name": "stdout",
          "text": [
            "sorry file not found\n"
          ]
        }
      ]
    },
    {
      "cell_type": "code",
      "source": [
        "# Catching specific exception (try this my changing values)\n",
        "d = 2\n",
        "try:\n",
        "  print(d)\n",
        "  f = open('sample.txt','r')\n",
        "  print(f.read())\n",
        "  divide = 10/20\n",
        "  l = [1,2,3]\n",
        "  l[5]\n",
        "except NameError as e:\n",
        "  print(e)\n",
        "except FileNotFoundError as e:\n",
        "  print(e)\n",
        "except ZeroDivisionError:\n",
        "  print('Zero sy divide nhi hoga')\n",
        "except Exception as e: # --> Check if there is any other error occurred!\n",
        "  print(e)"
      ],
      "metadata": {
        "colab": {
          "base_uri": "https://localhost:8080/"
        },
        "id": "px7mJhmvH0pd",
        "outputId": "4d2d2d73-bcc8-43e9-ccdf-931233ab0562"
      },
      "execution_count": 37,
      "outputs": [
        {
          "output_type": "stream",
          "name": "stdout",
          "text": [
            "2\n",
            "hello world\n",
            "list index out of range\n"
          ]
        }
      ]
    },
    {
      "cell_type": "code",
      "source": [
        "# else ---> this block only executes when there is no traceback in try.\n",
        "try:\n",
        "  f = open('sample1.txt','r')\n",
        "except FileNotFoundError:\n",
        "  print('file nai mili')\n",
        "except Exception:\n",
        "  print('kuch to lafda hai')\n",
        "else:\n",
        "  print(f.read())"
      ],
      "metadata": {
        "colab": {
          "base_uri": "https://localhost:8080/"
        },
        "id": "nn-_EK1TKvno",
        "outputId": "c28e2d02-ad80-4d89-c261-d1b13032af92"
      },
      "execution_count": 42,
      "outputs": [
        {
          "output_type": "stream",
          "name": "stdout",
          "text": [
            "file nai mili\n"
          ]
        }
      ]
    },
    {
      "cell_type": "markdown",
      "source": [
        "![Try-Except-Else-Finally_.png.jpg](data:image/jpeg;base64,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)"
      ],
      "metadata": {
        "id": "ZfV3P_5NGYZ2"
      }
    },
    {
      "cell_type": "code",
      "source": [
        "# finally\n",
        "# else\n",
        "try:\n",
        "  f = open('sample.txt','r')\n",
        "except FileNotFoundError:\n",
        "  print('file nai mili')\n",
        "except Exception:\n",
        "  print('kuch to lafda hai')\n",
        "else:\n",
        "  print(f.read())\n",
        "finally:\n",
        "  print('ye to print hoga hi')"
      ],
      "metadata": {
        "colab": {
          "base_uri": "https://localhost:8080/"
        },
        "id": "VKzyyGTUKwm5",
        "outputId": "3d44fe73-f7c1-4fea-cf2c-80a346b5d10e"
      },
      "execution_count": 43,
      "outputs": [
        {
          "output_type": "stream",
          "name": "stdout",
          "text": [
            "hello world\n",
            "ye to print hoga hi\n"
          ]
        }
      ]
    },
    {
      "cell_type": "code",
      "source": [
        "# raise Exception\n",
        "# In Python programming, exceptions are raised when errors occur at runtime.\n",
        "# We can also manually raise exceptions using the raise keyword.\n",
        "\n",
        "# We can optionally pass values to the exception to clarify why that exception was raised"
      ],
      "metadata": {
        "id": "weTHAgttKxaJ"
      },
      "execution_count": null,
      "outputs": []
    },
    {
      "cell_type": "code",
      "source": [
        "raise NameError('aise hi try kar raha hu')\n",
        "# Python - Java\n",
        "# try -> try\n",
        "# except -> catch\n",
        "# raise -> throw"
      ],
      "metadata": {
        "colab": {
          "base_uri": "https://localhost:8080/",
          "height": 211
        },
        "id": "IH51eIy5K9Yc",
        "outputId": "dad2e000-3d44-40dd-90d4-4460a7da7e78"
      },
      "execution_count": 51,
      "outputs": [
        {
          "output_type": "error",
          "ename": "NameError",
          "evalue": "aise hi try kar raha hu",
          "traceback": [
            "\u001b[0;31m---------------------------------------------------------------------------\u001b[0m",
            "\u001b[0;31mNameError\u001b[0m                                 Traceback (most recent call last)",
            "\u001b[0;32m<ipython-input-51-4c41c73e8c75>\u001b[0m in \u001b[0;36m<cell line: 0>\u001b[0;34m()\u001b[0m\n\u001b[0;32m----> 1\u001b[0;31m \u001b[0;32mraise\u001b[0m \u001b[0mNameError\u001b[0m\u001b[0;34m(\u001b[0m\u001b[0;34m'aise hi try kar raha hu'\u001b[0m\u001b[0;34m)\u001b[0m\u001b[0;34m\u001b[0m\u001b[0;34m\u001b[0m\u001b[0m\n\u001b[0m\u001b[1;32m      2\u001b[0m \u001b[0;31m# Python - Java\u001b[0m\u001b[0;34m\u001b[0m\u001b[0;34m\u001b[0m\u001b[0m\n\u001b[1;32m      3\u001b[0m \u001b[0;31m# try -> try\u001b[0m\u001b[0;34m\u001b[0m\u001b[0;34m\u001b[0m\u001b[0m\n\u001b[1;32m      4\u001b[0m \u001b[0;31m# except -> catch\u001b[0m\u001b[0;34m\u001b[0m\u001b[0;34m\u001b[0m\u001b[0m\n\u001b[1;32m      5\u001b[0m \u001b[0;31m# raise -> throw\u001b[0m\u001b[0;34m\u001b[0m\u001b[0;34m\u001b[0m\u001b[0m\n",
            "\u001b[0;31mNameError\u001b[0m: aise hi try kar raha hu"
          ]
        }
      ]
    },
    {
      "cell_type": "code",
      "source": [
        "class Bank:\n",
        "\n",
        "  def __init__(self,balance):\n",
        "    self.balance = balance\n",
        "\n",
        "  def withdraw(self,amount):\n",
        "    if amount < 0:\n",
        "      raise Exception('amount cannot be -ve')\n",
        "    if self.balance < amount:\n",
        "      raise Exception('paise nai hai tere paas')\n",
        "    self.balance = self.balance - amount\n",
        "\n",
        "obj = Bank(10000)\n",
        "try:\n",
        "  obj.withdraw(15000)\n",
        "except Exception as e:\n",
        "  print(e)\n",
        "else:\n",
        "  print(obj.balance)"
      ],
      "metadata": {
        "colab": {
          "base_uri": "https://localhost:8080/"
        },
        "id": "0qLD1KYj_LPm",
        "outputId": "8499010e-e6c1-4259-f8a9-9dc132a8f57e"
      },
      "execution_count": 57,
      "outputs": [
        {
          "output_type": "stream",
          "name": "stdout",
          "text": [
            "paise nai hai tere paas\n"
          ]
        }
      ]
    },
    {
      "cell_type": "code",
      "source": [
        "class MyException(Exception):\n",
        "  def __init__(self,message):\n",
        "    print(message)\n",
        "\n",
        "class Bank:\n",
        "\n",
        "  def __init__(self,balance):\n",
        "    self.balance = balance\n",
        "\n",
        "  def withdraw(self,amount):\n",
        "    if amount < 0:\n",
        "      raise MyException('amount cannot be -ve')\n",
        "    if self.balance < amount:\n",
        "      raise MyException('paise nai hai tere paas')\n",
        "    self.balance = self.balance - amount\n",
        "\n",
        "obj = Bank(10000)\n",
        "try:\n",
        "  obj.withdraw(15000)\n",
        "except MyException as e:\n",
        "  pass\n",
        "else:\n",
        "  print(obj.balance)"
      ],
      "metadata": {
        "colab": {
          "base_uri": "https://localhost:8080/"
        },
        "id": "DLzBsX5eBSNs",
        "outputId": "97676edc-4ffc-408d-c47f-4abdca04354c"
      },
      "execution_count": 68,
      "outputs": [
        {
          "output_type": "stream",
          "name": "stdout",
          "text": [
            "paise nai hai tere paas\n"
          ]
        }
      ]
    },
    {
      "cell_type": "code",
      "source": [
        "# creating custom exceptions\n",
        "# exception hierarchy in python"
      ],
      "metadata": {
        "id": "VTaMY8stXLaT"
      },
      "execution_count": 7,
      "outputs": []
    },
    {
      "cell_type": "code",
      "source": [
        "# simple example\n",
        "class SecurityError(Exception):\n",
        "\n",
        "  def __init__(self,message):\n",
        "    print(message)\n",
        "\n",
        "  def logout(self):\n",
        "    print('logout')\n",
        "\n",
        "class Google:\n",
        "\n",
        "  def __init__(self,name,email,password,device):\n",
        "    self.name = name\n",
        "    self.email = email\n",
        "    self.password = password\n",
        "    self.device = device\n",
        "\n",
        "  def login(self,email,password,device):\n",
        "    if device != self.device:\n",
        "      raise SecurityError('bhai teri to lag gayi')\n",
        "    if email == self.email and password == self.password:\n",
        "      print('welcome')\n",
        "    else:\n",
        "      print('login error')\n",
        "\n",
        "\n",
        "\n",
        "obj = Google('nitish','nitish@gmail.com','1234','android')\n",
        "\n",
        "try:\n",
        "  obj.login('nitish@gmail.com','1234','windows')\n",
        "except SecurityError as e:\n",
        "  e.logout()\n",
        "else:\n",
        "  print(obj.name)\n",
        "finally:\n",
        "  print('database connection closed')\n",
        "\n"
      ],
      "metadata": {
        "colab": {
          "base_uri": "https://localhost:8080/"
        },
        "id": "YMIbhy3acWX4",
        "outputId": "bc0efce6-2424-40e8-8048-9c43cd043ac7"
      },
      "execution_count": 9,
      "outputs": [
        {
          "output_type": "stream",
          "name": "stdout",
          "text": [
            "bhai teri to lag gayi\n",
            "logout\n",
            "database connection closed\n"
          ]
        }
      ]
    }
  ]
}