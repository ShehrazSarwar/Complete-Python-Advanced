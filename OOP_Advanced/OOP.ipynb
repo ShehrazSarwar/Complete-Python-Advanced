{
  "nbformat": 4,
  "nbformat_minor": 0,
  "metadata": {
    "colab": {
      "provenance": [],
      "collapsed_sections": [
        "hlWDACi-Lzex",
        "MpvlH713lYQE",
        "3ICjHpaouaGs",
        "ipXgZQPXxi07",
        "aifhdSILxo_N",
        "y9CCf2z2gOqP",
        "NSd1tZaWDq7P",
        "Ds-nt9Y0KT3x",
        "E7HiayecjaBC"
      ]
    },
    "kernelspec": {
      "name": "python3",
      "display_name": "Python 3"
    },
    "language_info": {
      "name": "python"
    }
  },
  "cells": [
    {
      "cell_type": "markdown",
      "source": [
        "# Basics"
      ],
      "metadata": {
        "id": "hlWDACi-Lzex"
      }
    },
    {
      "cell_type": "code",
      "execution_count": null,
      "metadata": {
        "colab": {
          "base_uri": "https://localhost:8080/"
        },
        "id": "JSBYon0NK6YD",
        "outputId": "0eb0ad75-57cd-4128-bd56-22c888e5be09"
      },
      "outputs": [
        {
          "output_type": "stream",
          "name": "stdout",
          "text": [
            "Make: Suzuki\n",
            "Model: Mehran\n",
            "Manufacturing Year: 2019\n"
          ]
        }
      ],
      "source": [
        "# Basic Class Structure\n",
        "# Always pass the self in every func of class\n",
        "class Vehicle:\n",
        "  def __init__(self,make,model,year):  #Paramertrized Constructor __init__\n",
        "    self.make = make\n",
        "    self.model = model\n",
        "    self.year = year\n",
        "\n",
        "  def displayInfo(self):\n",
        "    print(\"Make: \" + self.make + \"\\nModel: \" + self.model +\n",
        "          \"\\nManufacturing Year: \" + str(self.year))\n",
        "\n",
        "C1 = Vehicle(\"Suzuki\",\"Mehran\",2019)  #Syntax of making Object\n",
        "C1.displayInfo()"
      ]
    },
    {
      "cell_type": "code",
      "source": [
        "# Class Variable & Class Method\n",
        "# It is like a Static in Java\n",
        "class Student:\n",
        "  total_students = 0\n",
        "  student_no = 0\n",
        "  def __init__(self,name, id):\n",
        "    self.name = name\n",
        "    self.id = id\n",
        "    Student.total_students += 1\n",
        "    self.student_no = Student.total_students\n",
        "\n",
        "  @classmethod\n",
        "  def getTotal(cls):\n",
        "    return cls.total_students\n",
        "\n",
        "  def displayInfo(self):\n",
        "    print(f\"Student: {self.student_no}\\nName: {self.name}\\nID: {self.id}\")\n"
      ],
      "metadata": {
        "id": "uvz2myEkb2xn"
      },
      "execution_count": null,
      "outputs": []
    },
    {
      "cell_type": "code",
      "source": [
        "s1 = Student(\"Shehraz\",29261)\n",
        "s2 = Student(\"Emilie\",2231)\n",
        "\n",
        "s1.displayInfo()\n",
        "s2.displayInfo()\n",
        "\n",
        "print(\"Total Students:\",Student.getTotal())"
      ],
      "metadata": {
        "colab": {
          "base_uri": "https://localhost:8080/"
        },
        "id": "bqzo2g-JdRj-",
        "outputId": "8060a9b6-45ab-42a7-cc2b-dfad899df84e"
      },
      "execution_count": null,
      "outputs": [
        {
          "output_type": "stream",
          "name": "stdout",
          "text": [
            "Student: 1\n",
            "Name: Shehraz\n",
            "ID: 29261\n",
            "Student: 2\n",
            "Name: Emilie\n",
            "ID: 2231\n",
            "Total Students: 2\n"
          ]
        }
      ]
    },
    {
      "cell_type": "markdown",
      "source": [
        "# Inheritance"
      ],
      "metadata": {
        "id": "MpvlH713lYQE"
      }
    },
    {
      "cell_type": "code",
      "source": [
        "# Single Basic\n",
        "class Person:\n",
        "  def __init__(self, name, age, gender):\n",
        "    self.name = name\n",
        "    self.age = age\n",
        "    self.gender = gender\n",
        "\n",
        "  def displayInfo(self):\n",
        "    print(f\"Name: {self.name}\\nAge: {self.age}\\nGender: {self.gender}\")\n",
        "\n",
        "class Employee(Person):\n",
        "  def __init__(self, name, age, gender, id, role):\n",
        "    super().__init__(name, age, gender)\n",
        "    self.id = id\n",
        "    self.role = role\n",
        "\n",
        "  def displayInfo(self):\n",
        "    super().displayInfo()\n",
        "    print(f\"Id: {self.id}\\nRole: {self.role}\")"
      ],
      "metadata": {
        "id": "t5R8ct9ulbj8"
      },
      "execution_count": null,
      "outputs": []
    },
    {
      "cell_type": "code",
      "source": [
        "e1 = Employee(\"Shehraz Sarwar\",20,\"Male\",29261,\"Data Scientist\")\n",
        "e1.displayInfo()"
      ],
      "metadata": {
        "colab": {
          "base_uri": "https://localhost:8080/"
        },
        "id": "T70o0otXo0Ap",
        "outputId": "83010c88-3ac5-4468-fa74-e12b1b6b00f5"
      },
      "execution_count": null,
      "outputs": [
        {
          "output_type": "stream",
          "name": "stdout",
          "text": [
            "Name: Shehraz Sarwar\n",
            "Age: 20\n",
            "Gender: Male\n",
            "Id: 29261\n",
            "Role: Data Scientist\n"
          ]
        }
      ]
    },
    {
      "cell_type": "code",
      "source": [
        "# Multilevel Inheritance\n",
        "\n",
        "class Person:\n",
        "    def __init__(self, name, age):\n",
        "        self.name = name\n",
        "        self.age = age\n",
        "\n",
        "    def person_info(self):\n",
        "        print(f\"Name: {self.name}\\nAge: {self.age}\")\n",
        "\n",
        "class Employee(Person):\n",
        "    def __init__(self, name, age, id_no):\n",
        "        super().__init__(name,age)\n",
        "        self.id_no = id_no\n",
        "\n",
        "    def emp_id(self):\n",
        "        print(f\"Employee ID: {self.id_no}\")\n",
        "\n",
        "    def emp_info(self):\n",
        "        print(\"Simple Employee\")\n",
        "        super().person_info()\n",
        "        self.emp_id()\n",
        "\n",
        "class Manager(Employee):\n",
        "    def __init__(self,name,age,id_no,department):\n",
        "        super().__init__(name,age,id_no)\n",
        "        self.department = department\n",
        "\n",
        "    def manager_info(self):\n",
        "        print(\"Manager\")\n",
        "        super().person_info()\n",
        "        super().emp_id()\n",
        "        print(\"Manager Of Department:\",self.department)\n"
      ],
      "metadata": {
        "id": "jn8Gkx3ZrkSB"
      },
      "execution_count": null,
      "outputs": []
    },
    {
      "cell_type": "code",
      "source": [
        "manager = Manager(\"Shehraz\",25,29261,\"Data Science\")\n",
        "manager.manager_info()\n",
        "print(\"-\" * 10)\n",
        "employee = Employee(\"Jake\",25,2313)\n",
        "employee.emp_info()"
      ],
      "metadata": {
        "colab": {
          "base_uri": "https://localhost:8080/"
        },
        "id": "J5Sep0-bsGT-",
        "outputId": "78d2535c-4f5f-4111-b7d9-878079d6b929"
      },
      "execution_count": null,
      "outputs": [
        {
          "output_type": "stream",
          "name": "stdout",
          "text": [
            "Manager\n",
            "Name: Shehraz\n",
            "Age: 25\n",
            "Employee ID: 29261\n",
            "Manager Of Department: Data Science\n",
            "----------\n",
            "Simple Employee\n",
            "Name: Jake\n",
            "Age: 25\n",
            "Employee ID: 2313\n"
          ]
        }
      ]
    },
    {
      "cell_type": "code",
      "source": [
        "# Multiple Inheritance\n",
        "class Human:\n",
        "  def __init__(self, gender):\n",
        "     self.gender = gender\n",
        "\n",
        "  def Human_info(self):\n",
        "      print(f\"Gender: {self.gender}\")\n",
        "\n",
        "class Person(Human):\n",
        "  def __init__(self, gender, name, age):\n",
        "      super().__init__(gender)\n",
        "      self.name = name\n",
        "      self.age = age\n",
        "\n",
        "  def person_info(self):\n",
        "      super().Human_info()\n",
        "      print(f\"Name: {self.name}\\nAge: {self.age}\")\n",
        "\n",
        "class Employee(Person,Human):\n",
        "    def __init__(self, gender, name, age, id_no):\n",
        "        super().__init__(gender,name,age)\n",
        "        self.id_no = id_no\n",
        "\n",
        "    def emp_id(self):\n",
        "        print(f\"Employee ID: {self.id_no}\")\n",
        "\n",
        "    def emp_info(self):\n",
        "        print(\"Simple Employee\")\n",
        "        super().person_info()\n",
        "        self.emp_id()\n"
      ],
      "metadata": {
        "id": "slCHVWzUs6Q7"
      },
      "execution_count": null,
      "outputs": []
    },
    {
      "cell_type": "code",
      "source": [
        "e1 = Employee(\"Male\",\"Sheraz\",20,29261)"
      ],
      "metadata": {
        "id": "sAf3RY8jt5HX"
      },
      "execution_count": null,
      "outputs": []
    },
    {
      "cell_type": "code",
      "source": [
        "e1.emp_info()"
      ],
      "metadata": {
        "colab": {
          "base_uri": "https://localhost:8080/"
        },
        "id": "a4cvlkP-uCfg",
        "outputId": "9a33eafb-d25e-43b3-8b3f-a67a791fb7e3"
      },
      "execution_count": null,
      "outputs": [
        {
          "output_type": "stream",
          "name": "stdout",
          "text": [
            "Simple Employee\n",
            "Gender: Male\n",
            "Name: Sheraz\n",
            "Age: 20\n",
            "Employee ID: 29261\n"
          ]
        }
      ]
    },
    {
      "cell_type": "markdown",
      "source": [
        "# Polymorphism & staticmethod"
      ],
      "metadata": {
        "id": "3ICjHpaouaGs"
      }
    },
    {
      "cell_type": "code",
      "source": [
        "# Poly means many, Morphe means forms\n",
        "# Method Overriding (Polymorphism in Inheritance)\n",
        "\n",
        "class MediaRenderer:\n",
        "    @staticmethod  #make a method static if there is no use of self\n",
        "    def render():\n",
        "        print(\"Rendering a generic media file...\")\n",
        "\n",
        "class VideoRenderer(MediaRenderer):\n",
        "    @staticmethod\n",
        "    def render():\n",
        "        print(\"Rendering a high-resolution video file...\")\n",
        "\n",
        "class AudioRenderer(MediaRenderer):\n",
        "    @staticmethod\n",
        "    def render():\n",
        "        print(\"Rendering an audio file with enhanced sound quality...\")\n",
        "\n",
        "\n",
        "# Creating objects\n",
        "video = VideoRenderer()\n",
        "audio = AudioRenderer()\n",
        "\n",
        "# Directly calling render() – Polymorphism in action!\n",
        "video.render()\n",
        "audio.render()\n"
      ],
      "metadata": {
        "colab": {
          "base_uri": "https://localhost:8080/"
        },
        "id": "3vEVF9aNukau",
        "outputId": "095a82b1-4c5c-4c75-c3c3-d420ca6eb44e"
      },
      "execution_count": null,
      "outputs": [
        {
          "output_type": "stream",
          "name": "stdout",
          "text": [
            "Rendering a high-resolution video file...\n",
            "Rendering an audio file with enhanced sound quality...\n"
          ]
        }
      ]
    },
    {
      "cell_type": "markdown",
      "source": [
        "# Aggregation"
      ],
      "metadata": {
        "id": "ipXgZQPXxi07"
      }
    },
    {
      "cell_type": "markdown",
      "source": [
        "Aggregation = A relationship where one object contains references to other INDEPENDENT objects \"has-a\" relationship"
      ],
      "metadata": {
        "id": "10Du-TxLAh2w"
      }
    },
    {
      "cell_type": "code",
      "source": [
        "class Library:\n",
        "  def __init__(self, name):\n",
        "    self.name = name\n",
        "    self.books = []\n",
        "\n",
        "  def add_book(self,book):\n",
        "    self.books.append(book)\n",
        "\n",
        "  def book_list(self):\n",
        "    return [f\"{book.title} by {book.author}\" for book in self.books]\n",
        "\n",
        "class Book:\n",
        "  def __init__(self,title,author):\n",
        "    self.author = author\n",
        "    self.title = title"
      ],
      "metadata": {
        "id": "_UgZS_j6xnBq"
      },
      "execution_count": null,
      "outputs": []
    },
    {
      "cell_type": "code",
      "source": [
        "library = Library(\"NY Public Library\")\n",
        "book1 = Book(\"Grokking Algorithms\",\"Aditya Bhargava\")\n",
        "book2 = Book(\"Python for data analysis\",\"Wis Mickney\")\n",
        "book3 = Book(\"Atomic Habits\",\"James Clear\")\n",
        "\n",
        "library.add_book(book1)\n",
        "library.add_book(book2)\n",
        "library.add_book(book3)\n",
        "\n",
        "print(library.name)\n",
        "for book in library.book_list():\n",
        "  print(book)"
      ],
      "metadata": {
        "colab": {
          "base_uri": "https://localhost:8080/"
        },
        "id": "UXd1RiLR6zm1",
        "outputId": "d4d2e2e1-34bb-4903-ba2e-8de476c9da9d"
      },
      "execution_count": null,
      "outputs": [
        {
          "output_type": "stream",
          "name": "stdout",
          "text": [
            "NY Public Library\n",
            "Grokking Algorithms by Aditya Bhargava\n",
            "Python for data analysis by Wis Mickney\n",
            "Atomic Habits by James Clear\n"
          ]
        }
      ]
    },
    {
      "cell_type": "markdown",
      "source": [
        "# Composition"
      ],
      "metadata": {
        "id": "aifhdSILxo_N"
      }
    },
    {
      "cell_type": "markdown",
      "source": [
        "Composition = The composed object directly owns its components, which cannot exist independently \"owns-a\" relationship"
      ],
      "metadata": {
        "id": "uDN185u9At4t"
      }
    },
    {
      "cell_type": "code",
      "source": [
        "class Engine:\n",
        "    def __init__(self, horse_power):\n",
        "        self.horse_power = horse_power\n",
        "\n",
        "class Wheel:\n",
        "    def __init__(self, size):\n",
        "        self.size = size\n",
        "\n",
        "class Car:\n",
        "    def __init__(self, make, model, horse_power, wheel_size):\n",
        "        self.make = make\n",
        "        self.model = model\n",
        "        self.engine = Engine(horse_power)\n",
        "        self.wheels = [Wheel(wheel_size) for wheel in range(4)]\n",
        "\n",
        "    def display_car(self):\n",
        "        print(f\"{self.make} {self.model} {self.engine.horse_power}(hp) {self.wheels[0].size}inch\")"
      ],
      "metadata": {
        "id": "rQglI-LyxrwL"
      },
      "execution_count": null,
      "outputs": []
    },
    {
      "cell_type": "code",
      "source": [
        "car1 = Car(make=\"Ford\", model=\"Mustang\", horse_power=500, wheel_size=18)\n",
        "car2 = Car(make=\"Chevrolet\", model=\"Corvette\", horse_power=670, wheel_size=19)\n",
        "\n",
        "car1.display_car()\n",
        "car2.display_car()"
      ],
      "metadata": {
        "colab": {
          "base_uri": "https://localhost:8080/"
        },
        "id": "3-kT9_zzB7r-",
        "outputId": "bcce14aa-4b0c-44d8-b405-f740ee4f3434"
      },
      "execution_count": null,
      "outputs": [
        {
          "output_type": "stream",
          "name": "stdout",
          "text": [
            "Ford Mustang 500(hp) 18inch\n",
            "Chevrolet Corvette 670(hp) 19inch\n"
          ]
        }
      ]
    },
    {
      "cell_type": "markdown",
      "source": [
        "# Access Modifiers"
      ],
      "metadata": {
        "id": "y9CCf2z2gOqP"
      }
    },
    {
      "cell_type": "code",
      "source": [
        "### All the class variables are public\n",
        "class Car():\n",
        "    def __init__(self,windows,doors,enginetype):\n",
        "        self.windows = windows\n",
        "        self.doors=doors\n",
        "        self.enginetype = enginetype"
      ],
      "metadata": {
        "id": "nk-thuKcgTY6"
      },
      "execution_count": null,
      "outputs": []
    },
    {
      "cell_type": "code",
      "source": [
        "audi=Car(4,5,\"Diesel\")"
      ],
      "metadata": {
        "id": "HMlQjeQKgbFh"
      },
      "execution_count": null,
      "outputs": []
    },
    {
      "cell_type": "code",
      "source": [
        "audi.windows = 5\n",
        "audi.windows"
      ],
      "metadata": {
        "colab": {
          "base_uri": "https://localhost:8080/"
        },
        "id": "gkl4mlEagd9L",
        "outputId": "9a457eb6-bb7a-4d5b-e692-7abb665b22a9"
      },
      "execution_count": null,
      "outputs": [
        {
          "output_type": "execute_result",
          "data": {
            "text/plain": [
              "5"
            ]
          },
          "metadata": {},
          "execution_count": 30
        }
      ]
    },
    {
      "cell_type": "code",
      "source": [
        "### All the class variables are protected\n",
        "class Car():\n",
        "    def __init__(self,windows,doors,enginetype):\n",
        "        self._windows = windows\n",
        "        self._doors = doors\n",
        "        self._enginetype = enginetype\n",
        "\n",
        "class Truck(Car):\n",
        "    def __init__(self,windows,doors,enginetype,horsepower):\n",
        "        super().__init__(windows,doors,enginetype)\n",
        "        self.horsepowwer = horsepower"
      ],
      "metadata": {
        "id": "0Y9of8yNgjbj"
      },
      "execution_count": null,
      "outputs": []
    },
    {
      "cell_type": "code",
      "source": [
        "# dir(truck)"
      ],
      "metadata": {
        "id": "ozxMvDWti3ES"
      },
      "execution_count": null,
      "outputs": []
    },
    {
      "cell_type": "code",
      "source": [
        "truck = Truck(4,4,\"Diesel\",4000)"
      ],
      "metadata": {
        "id": "WiWY8awKgqrQ"
      },
      "execution_count": null,
      "outputs": []
    },
    {
      "cell_type": "code",
      "source": [
        "truck._doors = 5\n",
        "truck._doors"
      ],
      "metadata": {
        "colab": {
          "base_uri": "https://localhost:8080/"
        },
        "id": "l-W9mOdcgwQC",
        "outputId": "1b5e7fc2-8afe-4a41-b441-2b28a5e33070"
      },
      "execution_count": null,
      "outputs": [
        {
          "output_type": "execute_result",
          "data": {
            "text/plain": [
              "5"
            ]
          },
          "metadata": {},
          "execution_count": 63
        }
      ]
    },
    {
      "cell_type": "code",
      "source": [
        "### private\n",
        "class Car():\n",
        "    def __init__(self,windows,doors,enginetype):\n",
        "        self.__windows=windows\n",
        "        self.__doors=doors\n",
        "        self.__enginetype=enginetype"
      ],
      "metadata": {
        "id": "PndfQipRgz0G"
      },
      "execution_count": null,
      "outputs": []
    },
    {
      "cell_type": "code",
      "source": [
        " # dir(audi)"
      ],
      "metadata": {
        "id": "wycFFORxg6Rd"
      },
      "execution_count": null,
      "outputs": []
    },
    {
      "cell_type": "code",
      "source": [
        "audi = Car(4,4,\"Diesel\")\n",
        "audi.__doors = 513\n",
        "audi._Car__doors"
      ],
      "metadata": {
        "colab": {
          "base_uri": "https://localhost:8080/"
        },
        "id": "ninQlOn3g3EI",
        "outputId": "9a3f7305-4299-4d2e-8e0f-580bbab5ee2a"
      },
      "execution_count": null,
      "outputs": [
        {
          "output_type": "execute_result",
          "data": {
            "text/plain": [
              "4"
            ]
          },
          "metadata": {},
          "execution_count": 93
        }
      ]
    },
    {
      "cell_type": "code",
      "source": [
        "audi._Car__doors = 5 # Not a good practice\n",
        "audi._Car__doors"
      ],
      "metadata": {
        "colab": {
          "base_uri": "https://localhost:8080/"
        },
        "id": "8fdpTOUGiBH9",
        "outputId": "734fd6f5-1453-4a40-b848-e0c7743903ed"
      },
      "execution_count": null,
      "outputs": [
        {
          "output_type": "execute_result",
          "data": {
            "text/plain": [
              "5"
            ]
          },
          "metadata": {},
          "execution_count": 52
        }
      ]
    },
    {
      "cell_type": "markdown",
      "source": [
        "# Encapsulation"
      ],
      "metadata": {
        "id": "NSd1tZaWDq7P"
      }
    },
    {
      "cell_type": "code",
      "source": [
        "class Fruit:\n",
        "    def __init__(self, name):\n",
        "        self.__name = name\n",
        "\n",
        "    @property  #getter\n",
        "    def name(self):\n",
        "        return self.__name\n",
        "\n",
        "    @name.setter\n",
        "    def name(self, new_name):\n",
        "        if type(new_name) == str:\n",
        "            self.__name = new_name\n",
        "        else:\n",
        "            print(\"New name must be a string!\")\n",
        "\n",
        "    @name.deleter\n",
        "    def name(self):\n",
        "      del self.__name"
      ],
      "metadata": {
        "id": "zHWqZjYsFAxR"
      },
      "execution_count": 10,
      "outputs": []
    },
    {
      "cell_type": "code",
      "source": [
        "fruit = Fruit(\"banana\")\n",
        "\n",
        "print(fruit.name)\n",
        "fruit.name = 45\n",
        "fruit.name = \"orange\"\n",
        "print(fruit.name)\n",
        "\n",
        "del fruit.name\n",
        "# fruit.name"
      ],
      "metadata": {
        "colab": {
          "base_uri": "https://localhost:8080/"
        },
        "id": "EHmontIo6bHk",
        "outputId": "5fc9789d-7571-4dc5-c1ea-9ff4116b20da"
      },
      "execution_count": 11,
      "outputs": [
        {
          "output_type": "stream",
          "name": "stdout",
          "text": [
            "banana\n",
            "New name must be a string!\n",
            "orange\n"
          ]
        }
      ]
    },
    {
      "cell_type": "markdown",
      "source": [
        "# Abstraction"
      ],
      "metadata": {
        "id": "Ds-nt9Y0KT3x"
      }
    },
    {
      "cell_type": "code",
      "source": [
        "from abc import ABC, abstractmethod\n",
        "class BankApp(ABC):\n",
        "\n",
        "  def database(self):\n",
        "    print(\"connected to database\")\n",
        "\n",
        "  @abstractmethod\n",
        "  def security(self):\n",
        "    pass\n",
        "\n",
        "  @abstractmethod\n",
        "  def display(self):\n",
        "    pass"
      ],
      "metadata": {
        "id": "7z5C7KnZKW7k"
      },
      "execution_count": 12,
      "outputs": []
    },
    {
      "cell_type": "code",
      "source": [
        "class MobileApp(BankApp):\n",
        "\n",
        "  def mobile_login(self):\n",
        "    print(\"login into mobile\")\n",
        "\n",
        "  def security(self):\n",
        "     print('mobile security')\n",
        "\n",
        "  def display(self):\n",
        "    print('display')"
      ],
      "metadata": {
        "id": "8XlMaBjp-nDd"
      },
      "execution_count": 24,
      "outputs": []
    },
    {
      "cell_type": "code",
      "source": [
        "#can't create object until all abtract methods are defined in sub-class\n",
        "mob = MobileApp()"
      ],
      "metadata": {
        "id": "hIfMDd0i_EsN"
      },
      "execution_count": 23,
      "outputs": []
    },
    {
      "cell_type": "code",
      "source": [
        "mob.security()"
      ],
      "metadata": {
        "colab": {
          "base_uri": "https://localhost:8080/"
        },
        "id": "NSAuLUmn_J16",
        "outputId": "88864649-e219-4a5f-f06b-bbc47d68555e"
      },
      "execution_count": 15,
      "outputs": [
        {
          "output_type": "stream",
          "name": "stdout",
          "text": [
            "mobile security\n"
          ]
        }
      ]
    },
    {
      "cell_type": "code",
      "source": [
        "mob.display()"
      ],
      "metadata": {
        "colab": {
          "base_uri": "https://localhost:8080/"
        },
        "id": "RckBOa1J_Szy",
        "outputId": "d8195df1-cfa0-475d-956e-dcf4b3aa6d3a"
      },
      "execution_count": 16,
      "outputs": [
        {
          "output_type": "stream",
          "name": "stdout",
          "text": [
            "display\n"
          ]
        }
      ]
    },
    {
      "cell_type": "code",
      "source": [
        "# bank = BankApp() # can't make object of abstract class"
      ],
      "metadata": {
        "id": "e7rzfR3I_Ula"
      },
      "execution_count": 18,
      "outputs": []
    },
    {
      "cell_type": "markdown",
      "source": [
        "# Dunder Methods (Operator Overloading)"
      ],
      "metadata": {
        "id": "E7HiayecjaBC"
      }
    },
    {
      "cell_type": "code",
      "source": [
        "# More Advanced OOP Concept\n",
        "# Dunder Methods also known as Magic Methods\n",
        "# Called Operator Overloading In other programming languages like C++\n",
        "\n",
        "class Book:\n",
        "    def __init__(self, title, author, num_pages):\n",
        "        self.title = title\n",
        "        self.author = author\n",
        "        self.num_pages = num_pages\n",
        "\n",
        "    def __str__(self):\n",
        "        return f\"'{self.title}' by {self.author}\"\n",
        "\n",
        "    def __eq__(self, other):\n",
        "        return self.author == other.author and self.title == other.title\n",
        "\n",
        "    def __lt__(self, other):\n",
        "        return self.num_pages < other.num_pages\n",
        "\n",
        "    def __gt__(self, other):\n",
        "        return self.num_pages > other.num_pages\n",
        "\n",
        "    # Some others are\n",
        "    # __ne__(self, other):\n",
        "    # __le__(self, other):\n",
        "    # __ge__(self, other):\n",
        "\n",
        "    def __add__(self, other):\n",
        "        return self.num_pages + other.num_pages\n",
        "\n",
        "    # Some others are\n",
        "    # __sub__(self, other):\n",
        "    # __mul__(self, other):\n",
        "    # __mod__(self, other):\n",
        "    # __truediv__(self, other):\n",
        "    # __floordiv__(self, other):\n",
        "\n",
        "    def __contains__(self, keyword):\n",
        "        return keyword in self.title or keyword in self.author\n",
        "\n",
        "    def __getitem__(self, key):\n",
        "        if key == \"author\":\n",
        "            return self.author\n",
        "        elif key == \"title\":\n",
        "            return self.title\n",
        "        elif key == \"num_pages\":\n",
        "            return self.num_pages\n",
        "        else:\n",
        "            return f\"The key {key} was not found\"\n",
        "\n",
        "\n",
        "book1 = Book(\"Atomic Habbits\", \"James Clear\",273)\n",
        "book2 = Book(\"Grokking Algorithms\", \"Aditya Bhargava\",280)\n",
        "book3 = Book(\"The Psychology of Money\", \"Morgan Housel\",320)"
      ],
      "metadata": {
        "id": "ubWT4K1Jjbyv"
      },
      "execution_count": null,
      "outputs": []
    },
    {
      "cell_type": "code",
      "source": [
        "print(book1)\n",
        "print(book2)\n",
        "print(book3)\n",
        "\n",
        "print(book1 == book2)\n",
        "print(book1 < book3)\n",
        "print(book2 > book3)\n",
        "\n",
        "print(book2 + book3)\n",
        "\n",
        "print(\"Atomic\" in book1)\n",
        "print(\"Morgan\" in book2)\n",
        "print(\"Morgan\" in book3)\n",
        "\n",
        "print(book1[\"author\"])\n",
        "print(book2[\"title\"])\n",
        "print(book3[\"audio\"])"
      ],
      "metadata": {
        "colab": {
          "base_uri": "https://localhost:8080/"
        },
        "id": "_X1_T5S_jqJp",
        "outputId": "4e01c98c-b76e-4d35-c417-c330979fcc9c"
      },
      "execution_count": null,
      "outputs": [
        {
          "output_type": "stream",
          "name": "stdout",
          "text": [
            "'Atomic Habbits' by James Clear\n",
            "'Grokking Algorithms' by Aditya Bhargava\n",
            "'The Psychology of Money' by Morgan Housel\n",
            "False\n",
            "True\n",
            "False\n",
            "600\n",
            "True\n",
            "False\n",
            "True\n",
            "James Clear\n",
            "Grokking Algorithms\n",
            "The key audio was not found\n"
          ]
        }
      ]
    }
  ]
}