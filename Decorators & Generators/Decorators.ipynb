{
  "nbformat": 4,
  "nbformat_minor": 0,
  "metadata": {
    "colab": {
      "provenance": []
    },
    "kernelspec": {
      "name": "python3",
      "display_name": "Python 3"
    },
    "language_info": {
      "name": "python"
    }
  },
  "cells": [
    {
      "cell_type": "markdown",
      "source": [
        "### Decorators\n",
        "\n",
        "A decorator in python is a function that receives another function as input and adds some functionality(decoration) to and it and returns it.\n",
        "\n",
        "This can happen only because python functions are 1st class citizens.\n",
        "\n",
        "There are 2 types of decorators available in python\n",
        "- `Built in decorators` like `@staticmethod`, `@classmethod`, `@abstractmethod` and `@property` etc\n",
        "- `User defined decorators` that we programmers can create according to our needs"
      ],
      "metadata": {
        "id": "41HNtoiFcxbM"
      }
    },
    {
      "cell_type": "code",
      "execution_count": null,
      "metadata": {
        "colab": {
          "base_uri": "https://localhost:8080/"
        },
        "id": "LCokZ2KpTDbl",
        "outputId": "6c3efd0a-29a8-4d21-cc3e-94c1c457380a"
      },
      "outputs": [
        {
          "output_type": "stream",
          "name": "stdout",
          "text": [
            "*******************\n",
            "hello\n",
            "*******************\n",
            "*******************\n",
            "Shehraz\n",
            "*******************\n"
          ]
        }
      ],
      "source": [
        "# Simple Decorator Example:\n",
        "def my_decorator(func):\n",
        "  def wrapper():\n",
        "    print('*******************')\n",
        "    # a closure refers to an inner function that \"remembers\" and can access\n",
        "    # variables from its enclosing scope, even after the outer function has finished executing.\n",
        "    func()\n",
        "    print('*******************')\n",
        "  return wrapper\n",
        "\n",
        "def hello():\n",
        "  print('hello')\n",
        "\n",
        "def name():\n",
        "  print('Shehraz')\n",
        "\n",
        "a = my_decorator(hello)\n",
        "a()\n",
        "\n",
        "b = my_decorator(name)\n",
        "b()"
      ]
    },
    {
      "cell_type": "code",
      "source": [
        "# Actual Decorator Example: (Easy Syntax)\n",
        "def my_decorator(func):\n",
        "  def wrapper():\n",
        "    print('*******************')\n",
        "    # a closure refers to an inner function that \"remembers\" and can access\n",
        "    # variables from its enclosing scope, even after the outer function has finished executing.\n",
        "    func()\n",
        "    print('*******************')\n",
        "  return wrapper\n",
        "\n",
        "@my_decorator\n",
        "def name():\n",
        "  print('Shehraz')\n",
        "\n",
        "name()"
      ],
      "metadata": {
        "colab": {
          "base_uri": "https://localhost:8080/"
        },
        "id": "4jYSF0LMpzpE",
        "outputId": "e0077417-0226-4da8-b001-2c91de6b7c90"
      },
      "execution_count": null,
      "outputs": [
        {
          "output_type": "stream",
          "name": "stdout",
          "text": [
            "*******************\n",
            "Shehraz\n",
            "*******************\n"
          ]
        }
      ]
    },
    {
      "cell_type": "code",
      "source": [
        "# Meaningful Example\n",
        "import time\n",
        "\n",
        "def timer(func):\n",
        "  def wrapper(*args):\n",
        "    start = time.time()\n",
        "    func(*args)\n",
        "    end = time.time()\n",
        "    print(f'Time taken by {func.__name__} is {end - start} Seconds')\n",
        "  return wrapper\n",
        "\n",
        "@timer\n",
        "def hello():\n",
        "  print('hello world')\n",
        "\n",
        "@timer\n",
        "def square(num):\n",
        "  print(num**2)\n",
        "\n",
        "@timer\n",
        "def power(a,b):\n",
        "  print(a**b)\n",
        "\n",
        "hello()\n",
        "square(2)\n",
        "power(2,3)"
      ],
      "metadata": {
        "colab": {
          "base_uri": "https://localhost:8080/"
        },
        "id": "KCCiSfAgEQEe",
        "outputId": "36d4ba54-dee7-4de3-e087-7bb349a2af5c"
      },
      "execution_count": null,
      "outputs": [
        {
          "output_type": "stream",
          "name": "stdout",
          "text": [
            "hello world\n",
            "Time taken by hello is 0.00010800361633300781 Seconds\n",
            "4\n",
            "Time taken by square is 9.775161743164062e-06 Seconds\n",
            "8\n",
            "Time taken by power is 9.775161743164062e-06 Seconds\n"
          ]
        }
      ]
    },
    {
      "cell_type": "code",
      "source": [
        "def sanity_check(data_type):\n",
        "  def outer_wrapper(func):\n",
        "    def inner_wrapper(*args):\n",
        "      if type(*args) == data_type:\n",
        "        func(*args)\n",
        "      else:\n",
        "        raise TypeError('Can not use this data type')\n",
        "    return inner_wrapper\n",
        "  return outer_wrapper\n",
        "\n",
        "@sanity_check(int)\n",
        "def square(num):\n",
        "  print(num**2)\n",
        "\n",
        "square(2)\n",
        "\n",
        "@sanity_check(str)\n",
        "def greet(name):\n",
        "  print('Hello',name)\n",
        "\n",
        "greet('Shehraz')"
      ],
      "metadata": {
        "id": "IFM2KYkbInPF",
        "colab": {
          "base_uri": "https://localhost:8080/"
        },
        "outputId": "9049e8e6-4205-4f39-d269-5255fc17bfc0"
      },
      "execution_count": 14,
      "outputs": [
        {
          "output_type": "stream",
          "name": "stdout",
          "text": [
            "4\n",
            "Hello Shehraz\n"
          ]
        }
      ]
    }
  ]
}