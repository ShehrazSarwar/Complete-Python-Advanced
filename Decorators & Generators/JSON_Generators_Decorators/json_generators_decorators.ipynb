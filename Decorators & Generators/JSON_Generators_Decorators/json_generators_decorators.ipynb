{
  "cells": [
    {
      "cell_type": "markdown",
      "id": "8db972a9",
      "metadata": {
        "id": "8db972a9"
      },
      "source": [
        "<h2 align=\"center\" style=\"color:blue\">Codebasics Python Course: Exercise - JSON, Generators, Decorators</h2>"
      ]
    },
    {
      "cell_type": "markdown",
      "id": "19e6c089-394e-4180-80c9-95e8aa647171",
      "metadata": {
        "id": "19e6c089-394e-4180-80c9-95e8aa647171"
      },
      "source": [
        "**Loki** appreciates and conveys thank you for the help you provided with his previous ad-hoc tasks.\n",
        "\n",
        "As you've handled things well, he has some slightly more advanced ad-hoc tasks for you below.\n",
        "\n",
        "Have fun working on them! 😜"
      ]
    },
    {
      "cell_type": "markdown",
      "id": "95ff4e7d",
      "metadata": {
        "id": "95ff4e7d"
      },
      "source": [
        "### Task 1: Client Sales Data\n",
        "\n",
        "**Scenario:**  One of the Python developers, who was handling a retail client, went on vacation. However, the client has an urgent requirement to understand their sales data. Loki reached out to you for help with this. The sales records are stored in JSON format, detailing products, quantities sold, and sales categories.\n",
        "\n",
        "\n",
        "1. Load sales data from ```sales_data.json``` into a dictionary.\n",
        "\n",
        "   \n",
        "This task helps you provide actionable business insights from raw sales data."
      ]
    },
    {
      "cell_type": "code",
      "execution_count": 3,
      "id": "58c1c79a",
      "metadata": {
        "colab": {
          "base_uri": "https://localhost:8080/"
        },
        "id": "58c1c79a",
        "outputId": "5974b2e9-b9a5-41c7-afd1-012987dbeb93"
      },
      "outputs": [
        {
          "output_type": "execute_result",
          "data": {
            "text/plain": [
              "[{'product': 'Laptop',\n",
              "  'category': 'Electronics',\n",
              "  'quantity': 15,\n",
              "  'price_per_unit': 1200},\n",
              " {'product': 'Jeans',\n",
              "  'category': 'Apparel',\n",
              "  'quantity': 40,\n",
              "  'price_per_unit': 50},\n",
              " {'product': 'Blender',\n",
              "  'category': 'Home Appliances',\n",
              "  'quantity': 25,\n",
              "  'price_per_unit': 150},\n",
              " {'product': 'Smartphone',\n",
              "  'category': 'Electronics',\n",
              "  'quantity': 30,\n",
              "  'price_per_unit': 800},\n",
              " {'product': 'Jacket',\n",
              "  'category': 'Apparel',\n",
              "  'quantity': 20,\n",
              "  'price_per_unit': 120}]"
            ]
          },
          "metadata": {},
          "execution_count": 3
        }
      ],
      "source": [
        "# write your code here\n",
        "import json\n",
        "with open('sales_data.json') as f:\n",
        "  sales_data = json.load(f)\n",
        "\n",
        "sales_data"
      ]
    },
    {
      "cell_type": "markdown",
      "id": "a8a49eba",
      "metadata": {
        "id": "a8a49eba"
      },
      "source": [
        "### Task 2: Calculate and Display Total Sales by Category\n",
        "\n",
        "**Scenario:** Continuing your role, after successfully loading and organizing the sales data from a retail client, your next step is to provide a breakdown of total sales per category.\n",
        "\n",
        "1. Aggregate this data by product category to calculate total sales per category.\n",
        "2. Print the results, showing the total sales for each product category."
      ]
    },
    {
      "cell_type": "code",
      "execution_count": 21,
      "id": "cec25c2c",
      "metadata": {
        "colab": {
          "base_uri": "https://localhost:8080/"
        },
        "id": "cec25c2c",
        "outputId": "cb20353a-c0b9-4ec3-a2fa-1e859f963242"
      },
      "outputs": [
        {
          "output_type": "execute_result",
          "data": {
            "text/plain": [
              "{'Electronics': 42000, 'Apparel': 4400, 'Home Appliances': 3750}"
            ]
          },
          "metadata": {},
          "execution_count": 21
        }
      ],
      "source": [
        "# write your code here\n",
        "category_sales = {}\n",
        "for item in sales_data:\n",
        "  category_sales[item['category']] = category_sales.get(item['category'],0) + item['quantity'] * item['price_per_unit']\n",
        "\n",
        "category_sales"
      ]
    },
    {
      "cell_type": "markdown",
      "id": "4edb28b4",
      "metadata": {
        "id": "4edb28b4"
      },
      "source": [
        "### Task 3: Output Aggregated Sales Data to JSON File\n",
        "\n",
        "**Scenario:** Building on your previous work, where you calculated total sales by category, your client now requires this information in a structured digital format for integration into their business systems.\n",
        "\n",
        "1. Generate a JSON file named ```aggregated_sales.json``` containing the total sales data by category.\n",
        "2. Ensure the data is formatted as a list of dictionaries, each representing a category and its corresponding total sales.\n",
        "   \n",
        "**Expected JSON Output Format:**\n",
        "\n",
        "```\n",
        "[\n",
        "    {\n",
        "        \"category\": \"Electronics\",\n",
        "        \"total_sales\": 42000\n",
        "    },\n",
        "    {\n",
        "        \"category\": \"Apparel\",\n",
        "        \"total_sales\": 4400\n",
        "    },\n",
        "    {\n",
        "        \"category\": \"Home Appliances\",\n",
        "        \"total_sales\": 3750\n",
        "    }\n",
        "]\n",
        "```"
      ]
    },
    {
      "cell_type": "code",
      "execution_count": 26,
      "id": "1a000254",
      "metadata": {
        "id": "1a000254"
      },
      "outputs": [],
      "source": [
        "# write your code here\n",
        "category_sales_dic = [{'category': k,'total_sales':v} for k,v in category_sales.items()]\n",
        "\n",
        "with open('aggregated_sales.json','w') as f:\n",
        "  json.dump(category_sales_dic,f,indent = 4)\n"
      ]
    },
    {
      "cell_type": "markdown",
      "id": "fcada7bc",
      "metadata": {
        "id": "fcada7bc"
      },
      "source": [
        "### Task 4: Monitor and Filter Temperature Readings\n",
        "\n",
        "**Scenario:** At **AtliQ**, your next ad-hoc task involves monitoring equipment sensor data to promptly identify any readings that suggest potential overheating. The sensor data file ```sensor_data.txt``` is so HUGE that you can't read it all at once (For this exercise we have given a small file but just assume that in real life such a file will be pretty HUGE).\n",
        "\n",
        "**Objective:** Develop a Python program with a generator function `read_and_filter_temperatures` that efficiently processes this large dataset by:\n",
        "\n",
        "1. Taking two parameters: ```filename``` (the name of the sensor data file) and ```threshold``` (the temperature limit that indicates overheating).\n",
        "2. Yielding temperatures that exceed the specified threshold.\n",
        "3. Printing each critical temperature reading as it's identified to allow immediate action."
      ]
    },
    {
      "cell_type": "code",
      "execution_count": 31,
      "id": "76aea479",
      "metadata": {
        "colab": {
          "base_uri": "https://localhost:8080/"
        },
        "id": "76aea479",
        "outputId": "fd55ee4a-a5bb-4102-f747-81a409a61987"
      },
      "outputs": [
        {
          "output_type": "stream",
          "name": "stdout",
          "text": [
            "Filtered Temperatures Above 16°C:\n",
            "16.2°C\n",
            "21.8°C\n",
            "22.5°C\n",
            "24.1°C\n"
          ]
        }
      ],
      "source": [
        "# write your code here\n",
        "def read_and_filter_temperatures(filename, threshold):\n",
        "  with open(filename) as f:\n",
        "    for lines in f:\n",
        "      lines = lines.strip().split(',')\n",
        "      temperature = float(lines[1])\n",
        "      if temperature > threshold:\n",
        "        yield temperature\n",
        "\n",
        "\n",
        "critical_temperatures = read_and_filter_temperatures('sensor_data.txt', 16)\n",
        "print(\"Filtered Temperatures Above 16°C:\")\n",
        "for temps in critical_temperatures:\n",
        "  print(f\"{temps}°C\")"
      ]
    },
    {
      "cell_type": "markdown",
      "id": "a1e66533",
      "metadata": {
        "id": "a1e66533"
      },
      "source": [
        "### Task 5: Optimize API Usage with Caching for Client Financial Data Retrieval\n",
        "\n",
        "At AtliQ, you have been assigned to work on a new ad-hoc task for a client project involving a FINTECH company. Your task is to retrieve the company name based on the company's ticker. For example, for the ticker \"AAPL\", the company name will be \"Apple Inc.\".\n",
        "\n",
        "You are using the Bloomberg API for this, and each API call costs money. To reduce expenses, you want to implement a caching function using a decorator so that if a company name has previously been retrieved, it will be fetched from the cache; otherwise, an API call will be made. We don't have an actual API for this exercise, but we've provided you with a function called `get_company_name`, for which you can assume that every call incurs a cost, and your goal is to minimize the number of calls.\n",
        "\n",
        "You will write a decorator,\n",
        "\n",
        "```\n",
        "def cache_decorator(func):\n",
        "```\n",
        "\n",
        "And annotate the main function\n",
        "```\n",
        "@cache_decorator\n",
        "def get_company_name(ticker):\n",
        "```"
      ]
    },
    {
      "cell_type": "code",
      "execution_count": null,
      "id": "168dcaf0",
      "metadata": {
        "id": "168dcaf0"
      },
      "outputs": [],
      "source": [
        "def get_company_name(ticker):\n",
        "    \"\"\"Simulated API function to fetch a company name based on the ticker symbol.\"\"\"\n",
        "    # Simulate different responses based on the ticker symbol\n",
        "    api_responses = {\n",
        "        \"AAPL\": \"Apple Inc.\",\n",
        "        \"MSFT\": \"Microsoft Corporation\",\n",
        "        \"GOOGL\": \"Alphabet Inc.\"\n",
        "    }\n",
        "    return api_responses.get(ticker, \"Unknown Company\")"
      ]
    },
    {
      "cell_type": "code",
      "execution_count": 35,
      "id": "7ee2dedc-9044-4e62-8353-c6458efdd92d",
      "metadata": {
        "colab": {
          "base_uri": "https://localhost:8080/"
        },
        "id": "7ee2dedc-9044-4e62-8353-c6458efdd92d",
        "outputId": "8fcade50-5d00-44d7-8ef8-47b273343e4f"
      },
      "outputs": [
        {
          "output_type": "stream",
          "name": "stdout",
          "text": [
            "API call for AAPL\n",
            "Apple Inc.\n",
            "Cache hit for AAPL\n",
            "Apple Inc.\n",
            "API call for MSFT\n",
            "Microsoft Corporation\n",
            "Cache hit for MSFT\n",
            "Microsoft Corporation\n",
            "API call for GOOGL\n",
            "Alphabet Inc.\n",
            "Cache hit for GOOGL\n",
            "Alphabet Inc.\n"
          ]
        }
      ],
      "source": [
        "def cache_decorator(func):\n",
        "  cache = {}\n",
        "  def wrapper(ticker):\n",
        "    if ticker in cache:\n",
        "      print(f\"Cache hit for {ticker}\")\n",
        "      return cache[ticker]\n",
        "    else:\n",
        "      print(f\"API call for {ticker}\")\n",
        "      result = func(ticker)\n",
        "      cache[ticker] = result\n",
        "      return result\n",
        "  return wrapper\n",
        "\n",
        "\n",
        "@cache_decorator\n",
        "def get_company_name(ticker):\n",
        "    \"\"\"Simulated API function to fetch a company name based on the ticker symbol.\"\"\"\n",
        "    # Simulate different responses based on the ticker symbol\n",
        "    api_responses = {\n",
        "        \"AAPL\": \"Apple Inc.\",\n",
        "        \"MSFT\": \"Microsoft Corporation\",\n",
        "        \"GOOGL\": \"Alphabet Inc.\"\n",
        "    }\n",
        "    return api_responses.get(ticker, \"Unknown Company\")\n",
        "\n",
        "# Test the decorated function\n",
        "print(get_company_name(\"AAPL\"))  # Expected to trigger an API call\n",
        "print(get_company_name(\"AAPL\"))  # Expected to use cached data\n",
        "print(get_company_name(\"MSFT\"))  # Expected to trigger an API call\n",
        "print(get_company_name(\"MSFT\"))  # Expected to use cached data\n",
        "print(get_company_name(\"GOOGL\"))  # Expected to trigger an API call\n",
        "print(get_company_name(\"GOOGL\"))  # Expected to use cached data"
      ]
    }
  ],
  "metadata": {
    "kernelspec": {
      "display_name": "Python 3 (ipykernel)",
      "language": "python",
      "name": "python3"
    },
    "language_info": {
      "codemirror_mode": {
        "name": "ipython",
        "version": 3
      },
      "file_extension": ".py",
      "mimetype": "text/x-python",
      "name": "python",
      "nbconvert_exporter": "python",
      "pygments_lexer": "ipython3",
      "version": "3.10.11"
    },
    "colab": {
      "provenance": []
    }
  },
  "nbformat": 4,
  "nbformat_minor": 5
}