{
 "cells": [
  {
   "cell_type": "markdown",
   "id": "0b8dd089-9f51-4c07-b21b-11e594f06f50",
   "metadata": {},
   "source": [
    "### <center> TOA <br> Processing Strings using DFA (ctd) </center>"
   ]
  },
  {
   "cell_type": "markdown",
   "id": "16df1fa0-5aaa-4270-a8ef-5d6924084298",
   "metadata": {},
   "source": [
    "L = { w | w is of the form x01y for some string x and y consisting\n",
    "of 0's and 1's only } "
   ]
  },
  {
   "cell_type": "code",
   "execution_count": 53,
   "id": "efc6b548-c8bc-43ba-9d6d-aaeaf5f60c3e",
   "metadata": {},
   "outputs": [],
   "source": [
    "# pip install automata-lib"
   ]
  },
  {
   "cell_type": "code",
   "execution_count": 55,
   "id": "192f8bbf-d641-4d8e-a02d-a1530598cf2b",
   "metadata": {},
   "outputs": [],
   "source": [
    "from automata.fa.dfa import DFA"
   ]
  },
  {
   "cell_type": "code",
   "execution_count": 57,
   "id": "9ec4135b-4d96-4786-bbe4-1eab0a5bcf75",
   "metadata": {},
   "outputs": [],
   "source": [
    "dfa = DFA(\n",
    "    states = {'q0','q1','q2'},\n",
    "    input_symbols = {'0','1'},\n",
    "    transitions = {\n",
    "        'q0' : {'0': 'q1','1': 'q0'},\n",
    "        'q1' : {'0': 'q1','1': 'q2'},\n",
    "        'q2' : {'0': 'q2','1': 'q2'},\n",
    "    },\n",
    "    initial_state = 'q0',\n",
    "    final_states = {'q2'}\n",
    ")"
   ]
  },
  {
   "cell_type": "code",
   "execution_count": 59,
   "id": "6764e463-3b68-4357-86ed-8059af400f59",
   "metadata": {},
   "outputs": [
    {
     "name": "stdout",
     "output_type": "stream",
     "text": [
      "Accepted\n"
     ]
    }
   ],
   "source": [
    "if (dfa.accepts_input('100011')):\n",
    "    print('Accepted')\n",
    "else:\n",
    "    print('Rejected')"
   ]
  },
  {
   "cell_type": "code",
   "execution_count": 61,
   "id": "6097a1c2-183c-4377-a653-a43d1a4fe5cf",
   "metadata": {},
   "outputs": [
    {
     "name": "stdout",
     "output_type": "stream",
     "text": [
      "Rejected\n"
     ]
    }
   ],
   "source": [
    "if (dfa.accepts_input('1100')):\n",
    "    print('Accepted')\n",
    "else:\n",
    "    print('Rejected')"
   ]
  }
 ],
 "metadata": {
  "kernelspec": {
   "display_name": "Python [conda env:base] *",
   "language": "python",
   "name": "conda-base-py"
  },
  "language_info": {
   "codemirror_mode": {
    "name": "ipython",
    "version": 3
   },
   "file_extension": ".py",
   "mimetype": "text/x-python",
   "name": "python",
   "nbconvert_exporter": "python",
   "pygments_lexer": "ipython3",
   "version": "3.12.7"
  }
 },
 "nbformat": 4,
 "nbformat_minor": 5
}
